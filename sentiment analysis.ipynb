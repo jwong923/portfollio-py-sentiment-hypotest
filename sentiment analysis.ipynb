{
 "cells": [
  {
   "cell_type": "code",
   "execution_count": null,
   "metadata": {},
   "outputs": [],
   "source": [
    "import pandas as pd\n",
    "import numpy as np \n",
    "from textblob import TextBlob\n",
    "from wordcloud import WordCloud\n",
    "import re\n",
    "import ast\n",
    "import matplotlib.pyplot as plt\n",
    "import seaborn as sns\n",
    "import scipy.stats as stat\n",
    "from matplotlib import gridspec"
   ]
  },
  {
   "cell_type": "code",
   "execution_count": null,
   "metadata": {},
   "outputs": [],
   "source": [
    "hc = pd.read_csv('dataHC6_tweets.csv')\n",
    "bo = pd.read_csv('dataBO3_tweets.csv')\n",
    "jb = pd.read_csv('dataJB3_tweets.csv')\n",
    "kh = pd.read_csv('dataKH2_tweets.csv')"
   ]
  },
  {
   "cell_type": "code",
   "execution_count": null,
   "metadata": {},
   "outputs": [],
   "source": [
    "#drop duplicate row\n",
    "hc.drop_duplicates(inplace=True)\n",
    "bo.drop_duplicates(inplace=True)\n",
    "jb.drop_duplicates(inplace=True)\n",
    "kh.drop_duplicates(inplace=True)"
   ]
  },
  {
   "cell_type": "code",
   "execution_count": null,
   "metadata": {},
   "outputs": [],
   "source": [
    "df = pd.concat([hc, bo, jb,kh]).copy()\n",
    "df.head(5)"
   ]
  },
  {
   "cell_type": "code",
   "execution_count": null,
   "metadata": {},
   "outputs": [],
   "source": [
    "len(df)"
   ]
  },
  {
   "cell_type": "code",
   "execution_count": null,
   "metadata": {},
   "outputs": [],
   "source": [
    "def cleanTxt(text):\n",
    "    text = re.sub(r'@[A-Za-z0-9]+', '', text)\n",
    "    text = re.sub(r'#', '', text)\n",
    "    text = re.sub(r'RT[\\s]+', '', text)\n",
    "    text = re.sub(r'https?:\\/\\/\\S+', '', text)\n",
    "\n",
    "    return text"
   ]
  },
  {
   "cell_type": "code",
   "execution_count": null,
   "metadata": {},
   "outputs": [],
   "source": [
    "def cleanNum(num):\n",
    "    num = re.sub(',', '', num)\n",
    "    if '萬' in num:\n",
    "        num = num.replace('萬', '',1)\n",
    "        num = float(num)*10000\n",
    "    return float(num)"
   ]
  },
  {
   "cell_type": "code",
   "execution_count": null,
   "metadata": {},
   "outputs": [],
   "source": [
    "def cleanDate(datentime):\n",
    "    dateonly = datentime.split(\"T\")\n",
    "    return dateonly[0]"
   ]
  },
  {
   "cell_type": "code",
   "execution_count": null,
   "metadata": {},
   "outputs": [],
   "source": [
    "df['Tweet_clean']  = df['Tweet'].astype(str).apply(cleanTxt)\n",
    "\n",
    "df['Comments_clean'] = df['Comments'].astype(str).apply(cleanNum)\n",
    "df['Likes_clean'] = df['Likes'].astype(str).fillna(0).apply(cleanNum)\n",
    "df['Retweets_clean'] = df['Retweets'].astype(str).fillna(0).apply(cleanNum)\n",
    "\n",
    "df['date_clean'] = df['Timestamp'].apply(cleanDate)\n",
    "df['date_clean'] = pd.to_datetime(df['date_clean'])"
   ]
  },
  {
   "cell_type": "code",
   "execution_count": null,
   "metadata": {},
   "outputs": [],
   "source": [
    "df.loc[df['Comments_clean'].isna(), 'Comments_clean'] = 0\n",
    "df.loc[df['Likes_clean'].isna(), 'Likes_clean'] = 0\n",
    "df.loc[df['Retweets_clean'].isna(), 'Retweets_clean'] = 0"
   ]
  },
  {
   "cell_type": "code",
   "execution_count": null,
   "metadata": {},
   "outputs": [],
   "source": [
    "def getSubjectivity(text):\n",
    "    return TextBlob(text).sentiment.subjectivity\n",
    "\n",
    "def getPolarity(text):\n",
    "    return TextBlob(text).sentiment.polarity\n",
    "\n",
    "df['Subjectivity'] = df['Tweet_clean'].apply(getSubjectivity)\n",
    "df['Polarity'] = df['Tweet_clean'].apply(getPolarity)"
   ]
  },
  {
   "cell_type": "code",
   "execution_count": null,
   "metadata": {},
   "outputs": [],
   "source": [
    "df.head(10)"
   ]
  },
  {
   "cell_type": "code",
   "execution_count": null,
   "metadata": {},
   "outputs": [],
   "source": [
    "# plotting word cloud\n",
    "allWords = ''.join([twts for twts in df['Tweet_clean'].astype(str)])\n",
    "wordCloud = WordCloud(width = 500, height =300, random_state = 21, max_font_size =120).generate(allWords)\n",
    "\n",
    "plt.imshow(wordCloud, interpolation = \"bilinear\")\n",
    "plt.axis(\"off\")\n",
    "plt.show()"
   ]
  },
  {
   "cell_type": "code",
   "execution_count": null,
   "metadata": {},
   "outputs": [],
   "source": [
    "#Create function to compute the negative, netural and positive analysis\n",
    "\n",
    "def getAnalysis(score):\n",
    "    if score < 0:\n",
    "        return 'negative'\n",
    "    if score == 0:\n",
    "        return 'neutral'\n",
    "    else: return 'positive'\n",
    "\n",
    "df['Analysis'] = df['Polarity'].apply(getAnalysis)"
   ]
  },
  {
   "cell_type": "code",
   "execution_count": null,
   "metadata": {},
   "outputs": [],
   "source": [
    "df.head(5)"
   ]
  },
  {
   "cell_type": "code",
   "execution_count": null,
   "metadata": {},
   "outputs": [],
   "source": [
    "# showing the top 10 negative tweets\n",
    "print(df.sort_values(by='Polarity').iloc[:10,]['Tweet'])"
   ]
  },
  {
   "cell_type": "code",
   "execution_count": null,
   "metadata": {},
   "outputs": [],
   "source": [
    "print(df.sort_values(by='Polarity').iloc[:10,]['Tweet'])"
   ]
  },
  {
   "cell_type": "code",
   "execution_count": null,
   "metadata": {},
   "outputs": [],
   "source": [
    "df.sort_values(by='Polarity', ascending=False).iloc[:10,]['Tweet_clean']"
   ]
  },
  {
   "cell_type": "code",
   "execution_count": null,
   "metadata": {},
   "outputs": [],
   "source": [
    "# plt.figure(figsize=(8,6))\n",
    "# plt.scatter(x=df['Polarity'], y=df['Subjectivity'])\n",
    "# plt.title('Sentiment Analysis')\n",
    "# plt.xlabel('Polarity')\n",
    "# plt.ylabel('Subjectivity')\n"
   ]
  },
  {
   "cell_type": "code",
   "execution_count": null,
   "metadata": {},
   "outputs": [],
   "source": [
    "# get the percentage of different type of tweets:\n",
    "print(' Percentage of positive tweets: ', round(df[df['Analysis'] == 'positive'].shape[0] / df['Analysis'].shape[0] * 100, 3) ,'%', '\\n',\n",
    "'Percentage of netural tweets: ', round(df[df['Analysis'] == 'neutral'].shape[0] / df['Analysis'].shape[0]*100,3),'%', '\\n',\n",
    "'Percentage of negative tweets: ', round(df[df['Analysis'] == 'negative'].shape[0] / df['Analysis'].shape[0]*100, 3),'%')\n"
   ]
  },
  {
   "cell_type": "code",
   "execution_count": null,
   "metadata": {},
   "outputs": [],
   "source": [
    "\n",
    "fig = plt.figure(constrained_layout=True, figsize=(10,5))\n",
    "widths = [1, 1, 1]\n",
    "heights = [1, 3]\n",
    "spec5 = fig.add_gridspec(ncols=3, nrows=2, width_ratios=widths,\n",
    "                          height_ratios=heights)\n",
    "\n",
    "ax0 = fig.add_subplot(spec5[0, 0])\n",
    "ax0 = sns.boxplot(x='Likes_clean', data= df, showfliers=False)\n",
    "\n",
    "ax1 = fig.add_subplot(spec5[0, 1])\n",
    "ax1 = sns.boxplot(x='Retweets_clean', data=df, showfliers=False)\n",
    "\n",
    "ax2 = fig.add_subplot(spec5[0, 2])\n",
    "ax2 = sns.boxplot(x='Comments_clean', data=df, showfliers=False)\n",
    "\n",
    "ax3 = fig.add_subplot(spec5[1, 0])\n",
    "ax3 = sns.kdeplot(x='Likes_clean', data=df)\n",
    "\n",
    "ax4 = fig.add_subplot(spec5[1, 1])\n",
    "ax4 = sns.kdeplot(x='Retweets_clean', data=df)\n",
    "\n",
    "ax5 = fig.add_subplot(spec5[1, 2])\n",
    "ax5 = sns.kdeplot(x='Comments_clean', data=df)\n"
   ]
  },
  {
   "cell_type": "markdown",
   "metadata": {},
   "source": [
    "Testing if the mean number of Likes, Retweets and Comments are the same for positive and non-positive tweets"
   ]
  },
  {
   "cell_type": "code",
   "execution_count": null,
   "metadata": {},
   "outputs": [],
   "source": [
    "# if the positive and non-positive tweets get same mean of likes, retweets and comment\n",
    "\n",
    "pos_t = df[df['Analysis']=='positive'].copy()\n",
    "nonpos_t = df[df['Analysis'] != 'positive'].copy()"
   ]
  },
  {
   "cell_type": "code",
   "execution_count": null,
   "metadata": {},
   "outputs": [],
   "source": [
    "stat.ttest_ind(pos_t['Likes_clean'], nonpos_t['Likes_clean'])\n",
    "stat.ttest_ind(pos_t['Retweets_clean'], nonpos_t['Retweets_clean'])\n",
    "stat.ttest_ind(pos_t['Comments_clean'], nonpos_t['Comments_clean'])"
   ]
  },
  {
   "cell_type": "code",
   "execution_count": null,
   "metadata": {},
   "outputs": [],
   "source": [
    "print(\"Comparing the mean of Likes: \" , pos_t['Retweets_clean'].mean(), nonpos_t['Retweets_clean'].mean(), \"\\n\")\n",
    "print(\"Comparing the mean of Retweets: \", pos_t['Retweets_clean'].mean(), nonpos_t['Retweets_clean'].mean(), \"\\n\")\n",
    "print(\"Comparing the mean of Comments: Positive tweets: \", pos_t['Comments_clean'].mean(), \"Non positive tweets: \",nonpos_t['Comments_clean'].mean())"
   ]
  }
 ],
 "metadata": {
  "interpreter": {
   "hash": "40d3a090f54c6569ab1632332b64b2c03c39dcf918b08424e98f38b5ae0af88f"
  },
  "kernelspec": {
   "display_name": "Python 3.8.8 64-bit ('base': conda)",
   "name": "python3"
  },
  "language_info": {
   "codemirror_mode": {
    "name": "ipython",
    "version": 3
   },
   "file_extension": ".py",
   "mimetype": "text/x-python",
   "name": "python",
   "nbconvert_exporter": "python",
   "pygments_lexer": "ipython3",
   "version": "3.8.8"
  },
  "orig_nbformat": 4
 },
 "nbformat": 4,
 "nbformat_minor": 2
}
